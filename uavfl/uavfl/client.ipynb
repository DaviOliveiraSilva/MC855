{
 "cells": [
  {
   "cell_type": "code",
   "execution_count": 41,
   "id": "118cc4ea",
   "metadata": {},
   "outputs": [],
   "source": [
    "import flwr as fl\n",
    "import torch\n",
    "import torch.optim as optim\n",
    "import pandas as pd\n",
    "import numpy as np\n",
    "# import gymnasium as env\n",
    "from tensordict import TensorDict, TensorDictBase\n",
    "from torchrl.envs import EnvBase, Transform\n",
    "from tensordict.nn import TensorDictModule\n",
    "from torchrl.data import BoundedTensorSpec, CompositeSpec, UnboundedContinuousTensorSpec\n",
    "from torchrl.envs.utils import check_env_specs\n",
    "from agent import PolicyNetwork\n",
    "from gymnasium import Env, spaces\n",
    "# from env import DroneEnv"
   ]
  },
  {
   "cell_type": "code",
   "execution_count": 18,
   "id": "6a3a69b8",
   "metadata": {},
   "outputs": [],
   "source": [
    "def _step(self, tensordict):\n",
    "    action = tensordict[\"action\"]\n",
    "    dx = int(action[0])\n",
    "    dy = int(action[1])\n",
    "    new_x = np.clip(self.pos[0] + dx, 0, self.map_size - 1)\n",
    "    new_y = np.clip(self.pos[1] + dy, 0, self.map_size - 1)\n",
    "    self.pos = np.array([new_x, new_y])\n",
    "    already_covered = self.coverage_map[new_x, new_y]\n",
    "\n",
    "    self.altitude = tensordict[\"params\", \"altitude\"]\n",
    "    self.battery = tensordict[\"params\", \"battery_voltage\"] / 52000  # normalização do valor da bateria\n",
    "    self.wind_speed = tensordict[\"params\", \"wind_speed\"]\n",
    "    self.wind_angle = tensordict[\"params\", \"wind_angle\"] / 360\n",
    "\n",
    "    # Recompensa adaptada\n",
    "    alpha = 1.0      # incentivo por nova área\n",
    "    beta = 0.5       # penalização por redundância\n",
    "    gamma = 0.2      # penalização por vento\n",
    "    delta = 0.2      # penalização por bateria baixa\n",
    "\n",
    "    reward = 0.0\n",
    "\n",
    "    if already_covered < 0.5:\n",
    "        reward += alpha * (1 - already_covered)\n",
    "    else:\n",
    "        reward -= beta\n",
    "\n",
    "    reward -= gamma * self.wind_speed\n",
    "\n",
    "    if self.battery < 0.15:\n",
    "        reward -= delta * (1 - self.battery)\n",
    "\n",
    "    self.coverage_map[new_x, new_y] = 1.0\n",
    "    done = self.battery <= 0\n",
    "\n",
    "    out = TensorDict({\n",
    "        \"state\": self._get_state(),\n",
    "        \"params\": tensordict['params'],\n",
    "        \"reward\": reward,\n",
    "        \"done\": done,\n",
    "    })\n",
    "\n",
    "    return out"
   ]
  },
  {
   "cell_type": "code",
   "execution_count": 19,
   "id": "1deaee94",
   "metadata": {},
   "outputs": [],
   "source": [
    "def _get_state(self):\n",
    "    return torch.tensor([\n",
    "        self.pos[0],\n",
    "        self.pos[1],\n",
    "        self.coverage_map[self.pos[0]/self.map_size, self.pos[1]/self.map_size],\n",
    "        self.altitude,  # altitude\n",
    "        self.battery,\n",
    "        self.wind_speed,\n",
    "        self.wind_angle,  # direção do vento\n",
    "    ], dtype=torch.float32)"
   ]
  },
  {
   "cell_type": "code",
   "execution_count": 20,
   "id": "d74827af",
   "metadata": {},
   "outputs": [],
   "source": [
    "def _reset_env(self):\n",
    "    self.coverage_map[:] = 0\n",
    "    self.pos = np.random.randint(0, self.map_size, size=(2,))\n",
    "    self.battery = 1.0\n",
    "    self.wind_speed = 0.0\n",
    "    self.wind_angle = 0\n",
    "    self.altitude = 0"
   ]
  },
  {
   "cell_type": "code",
   "execution_count": 21,
   "id": "f54532a8",
   "metadata": {},
   "outputs": [],
   "source": [
    "def _reset(self):\n",
    "    self._reset_env()\n",
    "    return self._get_state()"
   ]
  },
  {
   "cell_type": "code",
   "execution_count": 37,
   "id": "ae15e138",
   "metadata": {},
   "outputs": [],
   "source": [
    "def _make_spec(self):\n",
    "    # self.observation_spec = BoundedTensorSpec()\n",
    "    # CompositeSpec(\n",
    "        # pos=BoundedTensorSpec(\n",
    "            # low=\n",
    "        # )\n",
    "    # )\n",
    "    # self.observation_spec = CompositeSpec(observation=UnboundedContinuousTensorSpec(shape=(7,)))\n",
    "    self.state_spec = CompositeSpec(BoundedTensorSpec(shape=(7,), low=0, high=1, dtype=torch.float32))\n",
    "    self.action_spec = BoundedTensorSpec(shape=(2,), low=-1, high=1, dtype=torch.float32)\n",
    "    self.reward_spec = UnboundedContinuousTensorSpec(shape=(), dtype=torch.float32)\n",
    "    # self.done_spec = BoundedTensorSpec(shape=(), dtype=torch.bool)\n"
   ]
  },
  {
   "cell_type": "code",
   "execution_count": null,
   "id": "a2b70d8e",
   "metadata": {},
   "outputs": [],
   "source": [
    "def _set_seed(self, seed):\n",
    "    rng = torch.manual_seed(seed)\n",
    "    self.rng = rng\n"
   ]
  },
  {
   "cell_type": "code",
   "execution_count": 45,
   "id": "158e4985",
   "metadata": {},
   "outputs": [],
   "source": [
    "class DroneEnvG(Env):\n",
    "    def __init__(self, map_size=50):\n",
    "        super().__init__()\n",
    "        self.map_size = map_size\n",
    "        self.coverage_map = np.zeros((map_size, map_size))\n",
    "\n",
    "        self.observation_space = spaces.Dict({\n",
    "            \"pos_x\": spaces.Box(-np.inf, np.inf, shape=(), dtype=np.float32),\n",
    "            \"pos_y\": spaces.Box(-np.inf, np.inf, shape=(), dtype=np.float32),\n",
    "            \"coverage\": spaces.Box(0, 1.0, shape=(), dtype=np.float32),\n",
    "            \"battery\": spaces.Box(0, np.inf, shape=(), dtype=np.float32),\n",
    "            \"wind_speed\": spaces.Box(-np.inf, np.inf, shape=(), dtype=np.float32),\n",
    "            \"wind_angle\": spaces.Box(0, 360, shape=(), dtype=np.int32),\n",
    "            \"altitude\": spaces.Box(-np.inf, np.inf, shape=(), dtype=np.float32),\n",
    "        })\n",
    "\n",
    "        self.action_space = spaces.Box(low=-np.inf, high=np.inf, shape=(2,), dtype=np.float32)\n",
    "\n",
    "        self.reset()\n",
    "    \n",
    "\n",
    "    def _get_obs(self):\n",
    "        return {\n",
    "            \"pos_x\": self.pos[0],\n",
    "            \"pos_y\": self.pos[1],\n",
    "            \"coverage\": self.coverage_map[self.pos[0] % self.map_size, self.pos[1] % self.map_size],\n",
    "            \"battery\": self.battery,\n",
    "            \"wind_speed\": self.wind_speed,\n",
    "            \"wind_angle\": self.wind_angle,\n",
    "            \"altitude\": self.altitude,\n",
    "        }\n",
    "\n",
    "    def _get_info(self):\n",
    "        return {\n",
    "            \"total_covered\": np.count_nonzero(self.coverage_map)\n",
    "        }\n",
    "\n",
    "    def reset(self, seed=None, options=None):\n",
    "        super().reset(seed=seed)\n",
    "        self.coverage_map[:] = 0\n",
    "        self.pos = np.random.randint(0, self.map_size, size=(2,))\n",
    "        self.battery = 1.0\n",
    "        self.wind_speed = 0.0\n",
    "        self.wind_angle = 0\n",
    "        self.altitude = 0.0\n",
    "        obs = self._get_obs()\n",
    "        info = self._get_info()\n",
    "        return obs, info\n",
    "\n",
    "    def _get_reward(self):\n",
    "        # normalizacao da velocidade do vento\n",
    "        wind_speed_normal = self.wind_speed / 100\n",
    "        # se já mapeou regiao\n",
    "        already_covered = self.coverage_map[self.pos[0], self.pos[1]]\n",
    "\n",
    "        # Recompensa adaptada\n",
    "        alpha = 1.0      # incentivo por nova área\n",
    "        beta = 10.0       # penalização por cair / drone no chão\n",
    "        gamma = 0.3      # penalização por vento\n",
    "        delta = 0.5      # penalização por bateria baixa\n",
    "\n",
    "        reward = 0.0\n",
    "\n",
    "        reward += alpha * (1 - already_covered)\n",
    "        reward -= gamma * (wind_speed_normal * np.cos(np.radians([self.wind_angle])))\n",
    "\n",
    "        if self.battery < 0.15:\n",
    "            reward -= delta * (1 - self.battery)\n",
    "        \n",
    "        if self.altitude <= 0:\n",
    "            reward -= beta\n",
    "\n",
    "        return reward\n",
    "\n",
    "    def step(self, action, params):\n",
    "        dx = int(action[0])\n",
    "        dy = int(action[1])\n",
    "        new_x = np.clip(self.pos[0] + dx, 0, self.map_size - 1)\n",
    "        new_y = np.clip(self.pos[1] + dy, 0, self.map_size - 1)\n",
    "        self.pos = np.array([new_x, new_y])\n",
    "\n",
    "        self.altitude = params[\"altitude\"]\n",
    "        self.battery = params[\"battery_voltage\"] / 50000  # normalização do valor da bateria\n",
    "        self.wind_speed = params[\"wind_speed\"]\n",
    "        self.wind_angle = params[\"wind_angle\"]\n",
    "\n",
    "        reward = self._get_reward()\n",
    "        self.coverage_map[new_x, new_y] = 1.0\n",
    "        done = (self.battery <= 0 or np.all(self.coverage_map))\n",
    "\n",
    "        obs = self._get_obs()\n",
    "        info = self._get_info()\n",
    "\n",
    "        return obs, reward, done, False, info\n",
    "    "
   ]
  },
  {
   "cell_type": "code",
   "execution_count": 51,
   "id": "aa7a30a6",
   "metadata": {},
   "outputs": [],
   "source": [
    "import pandas as pd\n",
    "from torch.utils.data import Dataset, DataLoader, random_split"
   ]
  },
  {
   "cell_type": "code",
   "execution_count": 52,
   "id": "9193051f",
   "metadata": {},
   "outputs": [],
   "source": [
    "csv_path ='../data/sensor_dataset.csv'"
   ]
  },
  {
   "cell_type": "code",
   "execution_count": 113,
   "id": "be655593",
   "metadata": {},
   "outputs": [],
   "source": [
    "df = pd.read_csv(csv_path, sep=';')"
   ]
  },
  {
   "cell_type": "code",
   "execution_count": 114,
   "id": "897f9f1d",
   "metadata": {},
   "outputs": [],
   "source": [
    "df['position_x'] = df['position_x'].apply(lambda x : (x*10000) % 100)\n",
    "df['position_y'] = df['position_y'].apply(lambda x : (x*10000) % 100)\n",
    "df['battery_voltage'] = df['battery_voltage'].apply(lambda x : x/52000)\n",
    "df['altitude'] = df['altitude'].mask(df['altitude'] < 0, 0)"
   ]
  },
  {
   "cell_type": "code",
   "execution_count": 132,
   "id": "5000a05b",
   "metadata": {},
   "outputs": [
    {
     "data": {
      "text/plain": [
       "0         1551\n",
       "1         1551\n",
       "2         1551\n",
       "3         1551\n",
       "4         1551\n",
       "          ... \n",
       "111077    1734\n",
       "111078    1734\n",
       "111079    1734\n",
       "111080    1734\n",
       "111081    1730\n",
       "Name: battery_current, Length: 111082, dtype: int64"
      ]
     },
     "execution_count": 132,
     "metadata": {},
     "output_type": "execute_result"
    }
   ],
   "source": [
    "df['battery_current']"
   ]
  },
  {
   "cell_type": "code",
   "execution_count": 121,
   "id": "112ad9e0",
   "metadata": {},
   "outputs": [],
   "source": [
    "pos_x = df['position_x']\n",
    "pos_y = df['position_y']"
   ]
  },
  {
   "cell_type": "code",
   "execution_count": 128,
   "id": "632169b2",
   "metadata": {},
   "outputs": [],
   "source": [
    "df['position_x'] = (df['position_x']-df['position_x'].min())/(df['position_x'].max()-df['position_x'].min())"
   ]
  },
  {
   "cell_type": "code",
   "execution_count": 130,
   "id": "461eb158",
   "metadata": {},
   "outputs": [
    {
     "data": {
      "text/plain": [
       "count    111082.000000\n",
       "mean          0.687213\n",
       "std           0.237620\n",
       "min           0.000000\n",
       "25%           0.527144\n",
       "50%           0.788090\n",
       "75%           0.879157\n",
       "max           1.000000\n",
       "Name: position_x, dtype: float64"
      ]
     },
     "execution_count": 130,
     "metadata": {},
     "output_type": "execute_result"
    }
   ],
   "source": [
    "df['position_x'] = df['position_x'] * 100"
   ]
  },
  {
   "cell_type": "code",
   "execution_count": 127,
   "id": "c1625a47",
   "metadata": {},
   "outputs": [
    {
     "data": {
      "text/plain": [
       "count    111082.000000\n",
       "mean         68.721271\n",
       "std          23.762004\n",
       "min           0.000000\n",
       "25%          52.714410\n",
       "50%          78.809011\n",
       "75%          87.915655\n",
       "max         100.000000\n",
       "Name: position_x, dtype: float64"
      ]
     },
     "execution_count": 127,
     "metadata": {},
     "output_type": "execute_result"
    }
   ],
   "source": [
    "normal_x.describe()"
   ]
  },
  {
   "cell_type": "code",
   "execution_count": 110,
   "id": "073cbcdd",
   "metadata": {},
   "outputs": [
    {
     "data": {
      "text/plain": [
       "count    111082.000000\n",
       "mean         58.468777\n",
       "std          25.542943\n",
       "min           0.000000\n",
       "25%          59.954132\n",
       "50%          69.978600\n",
       "75%          70.016907\n",
       "max         102.755218\n",
       "Name: altitude, dtype: float64"
      ]
     },
     "execution_count": 110,
     "metadata": {},
     "output_type": "execute_result"
    }
   ],
   "source": [
    "df['altitude'].describe()"
   ]
  },
  {
   "cell_type": "code",
   "execution_count": 106,
   "id": "a9faa71f",
   "metadata": {},
   "outputs": [
    {
     "data": {
      "text/plain": [
       "count    111082.000000\n",
       "mean      45042.238806\n",
       "std        1369.206312\n",
       "min       42394.000000\n",
       "25%       43976.000000\n",
       "50%       44779.000000\n",
       "75%       45847.000000\n",
       "max       51630.000000\n",
       "Name: battery_voltage, dtype: float64"
      ]
     },
     "execution_count": 106,
     "metadata": {},
     "output_type": "execute_result"
    }
   ],
   "source": [
    "df['battery_voltage'].describe()"
   ]
  },
  {
   "cell_type": "code",
   "execution_count": 107,
   "id": "f7fac3e3",
   "metadata": {},
   "outputs": [
    {
     "data": {
      "text/plain": [
       "count    111082.000000\n",
       "mean         58.468709\n",
       "std          25.543098\n",
       "min          -0.065979\n",
       "25%          59.954132\n",
       "50%          69.978600\n",
       "75%          70.016907\n",
       "max         102.755218\n",
       "Name: altitude, dtype: float64"
      ]
     },
     "execution_count": 107,
     "metadata": {},
     "output_type": "execute_result"
    }
   ],
   "source": [
    "df['altitude'].describe()"
   ]
  },
  {
   "cell_type": "code",
   "execution_count": 46,
   "id": "41643355",
   "metadata": {},
   "outputs": [],
   "source": [
    "env_t = DroneEnvG()\n",
    "# check_env_specs(env_t)"
   ]
  },
  {
   "cell_type": "code",
   "execution_count": 48,
   "id": "b6cedba2",
   "metadata": {},
   "outputs": [],
   "source": [
    "obs, info = env_t.reset()"
   ]
  },
  {
   "cell_type": "code",
   "execution_count": 50,
   "id": "aae4de2f",
   "metadata": {},
   "outputs": [
    {
     "data": {
      "text/plain": [
       "{'total_covered': np.int64(0)}"
      ]
     },
     "execution_count": 50,
     "metadata": {},
     "output_type": "execute_result"
    }
   ],
   "source": [
    "info"
   ]
  },
  {
   "cell_type": "code",
   "execution_count": null,
   "id": "311e3142",
   "metadata": {},
   "outputs": [],
   "source": [
    "df = pd.read_csv(\"../../data/sensor_dataset.csv\", sep=';')\n",
    "\n",
    "df = df.astype({\n",
    "    'wind_speed': float,\n",
    "    'wind_angle': float,\n",
    "    'battery_voltage': float,\n",
    "    'altitude': float,\n",
    "    'yaw': float\n",
    "})\n",
    "\n",
    "env = DroneEnv(data=df.to_dict(orient=\"records\"))\n"
   ]
  },
  {
   "cell_type": "code",
   "execution_count": 3,
   "id": "3c4328d1",
   "metadata": {},
   "outputs": [
    {
     "data": {
      "text/plain": [
       "111082"
      ]
     },
     "execution_count": 3,
     "metadata": {},
     "output_type": "execute_result"
    }
   ],
   "source": [
    "len(env.data)"
   ]
  },
  {
   "cell_type": "code",
   "execution_count": null,
   "id": "346bc305",
   "metadata": {},
   "outputs": [],
   "source": [
    "trajectories = []\n",
    "for uid, group in df.groupby('uid'):\n",
    "    group = group.sort_values('timestamp').reset_index(drop=True)\n",
    "    for i in range(len(group) - 1):\n",
    "        curr = group.iloc[i]\n",
    "        next_ = group.iloc[i + 1]\n",
    "\n",
    "        state = np.array([\n",
    "            curr['position_x'],\n",
    "            curr['position_y'],\n",
    "            0, # coverage\n",
    "            curr['battery_voltage'] / 20.0,  # normalização\n",
    "            curr['wind_speed'] / 20.0,\n",
    "            curr['wind_angle'] / 360.0,\n",
    "            curr['altitude'] / 1000.0,\n",
    "            curr['yaw'] / 360.0,\n",
    "        ], dtype=np.float32)\n",
    "\n",
    "        # Próximo estado\n",
    "        next_state = np.array([\n",
    "            next_['position_x'] / 1000.0,\n",
    "            next_['position_y'] / 1000.0,\n",
    "            0.0,\n",
    "            next_['battery_voltage'] / 20.0,\n",
    "            next_['wind_speed'] / 20.0,\n",
    "            next_['wind_angle'] / 360.0,\n",
    "            next_['altitude'] / 1000.0,\n",
    "            next_['yaw'] / 360.0,\n",
    "        ], dtype=np.float32)\n",
    "\n",
    "        # Ação aproximada = delta posição\n",
    "        dx = (next_['position_x'] - curr['position_x']) / 10.0\n",
    "        dy = (next_['position_y'] - curr['position_y']) / 10.0\n",
    "        action = np.array([dx, dy], dtype=np.float32)\n",
    "\n",
    "        # Recompensa estimada baseada nos critérios usados no ambiente\n",
    "        reward = 0\n",
    "        if i > 0:\n",
    "            redundancy = 1 if np.linalg.norm([dx, dy]) < 1e-2 else 0\n",
    "            reward += 1 - redundancy\n",
    "            reward -= 0.5 * (curr['wind_speed'] / 20.0)\n",
    "            if curr['battery_voltage'] < 15:\n",
    "                reward -= 0.3\n",
    "\n",
    "        log_prob = 0  # Placeholder: pode ser ignorado no fine-tuning\n",
    "        done = False  # Assumimos episódio contínuo para fine-tuning\n",
    "\n",
    "        trajectories.append((state, action, reward, done, log_prob))"
   ]
  },
  {
   "cell_type": "code",
   "execution_count": 5,
   "id": "08abdf53",
   "metadata": {},
   "outputs": [],
   "source": [
    "DEVICE = torch.device(\"cuda\" if torch.cuda.is_available() else \"cpu\")\n",
    "STATE_DIM = 7\n",
    "ACTION_DIM = 2"
   ]
  },
  {
   "cell_type": "code",
   "execution_count": 6,
   "id": "c14957ed",
   "metadata": {},
   "outputs": [],
   "source": [
    "\n",
    "class DroneClient(fl.client.NumPyClient):\n",
    "    def __init__(self):\n",
    "        self.model = PolicyNetwork(STATE_DIM, ACTION_DIM).to(DEVICE)\n",
    "\n",
    "    def get_parameters(self, config):\n",
    "        return [val.cpu().numpy() for val in self.model.state_dict().values()]\n",
    "\n",
    "    def set_parameters(self, parameters):\n",
    "        keys = list(self.model.state_dict().keys())\n",
    "        state_dict = {k: torch.tensor(v) for k, v in zip(keys, parameters)}\n",
    "        self.model.load_state_dict(state_dict, strict=True)\n",
    "\n",
    "    def fit(self, parameters, config):\n",
    "        self.set_parameters(parameters)\n",
    "\n",
    "        env = DroneEnv()\n",
    "        optimizer = optim.Adam(self.model.parameters(), lr=0.001)\n",
    "\n",
    "        for episode in range(5):  # Local episodes\n",
    "            state = torch.tensor(env.reset(), dtype=torch.float32).to(DEVICE)\n",
    "            done = False\n",
    "            while not done:\n",
    "                action, log_prob = self.model.act(state)\n",
    "                next_state, reward, done, _ = env.step(action.cpu().detach().numpy())\n",
    "                next_state = torch.tensor(next_state, dtype=torch.float32).to(DEVICE)\n",
    "\n",
    "                loss = -log_prob * reward\n",
    "                optimizer.zero_grad()\n",
    "                loss.backward()\n",
    "                optimizer.step()\n",
    "\n",
    "                state = next_state\n",
    "\n",
    "        return self.get_parameters({}), 1, {}\n",
    "\n",
    "    def evaluate(self, parameters, config):\n",
    "        self.set_parameters(parameters)\n",
    "        env = DroneEnv()\n",
    "\n",
    "        total_reward = 0.0\n",
    "        for _ in range(5):\n",
    "            state = torch.tensor(env.reset(), dtype=torch.float32).to(DEVICE)\n",
    "            done = False\n",
    "            while not done:\n",
    "                with torch.no_grad():\n",
    "                    action, _ = self.model.act(state)\n",
    "                next_state, reward, done, _ = env.step(action.cpu().numpy())\n",
    "                total_reward += reward\n",
    "                state = torch.tensor(next_state, dtype=torch.float32).to(DEVICE)\n",
    "\n",
    "        avg_reward = total_reward / 5\n",
    "        return -avg_reward, 1, {\"reward\": avg_reward}"
   ]
  },
  {
   "cell_type": "code",
   "execution_count": 7,
   "id": "984d7d57",
   "metadata": {},
   "outputs": [
    {
     "name": "stderr",
     "output_type": "stream",
     "text": [
      "\u001b[93mWARNING \u001b[0m:   DEPRECATED FEATURE: flwr.client.start_numpy_client() is deprecated. \n",
      "\tInstead, use `flwr.client.start_client()` by ensuring you first call the `.to_client()` method as shown below: \n",
      "\tflwr.client.start_client(\n",
      "\t\tserver_address='<IP>:<PORT>',\n",
      "\t\tclient=FlowerClient().to_client(), # <-- where FlowerClient is of type flwr.client.NumPyClient object\n",
      "\t)\n",
      "\tUsing `start_numpy_client()` is deprecated.\n",
      "\n",
      "            This is a deprecated feature. It will be removed\n",
      "            entirely in future versions of Flower.\n",
      "        \n",
      "\u001b[93mWARNING \u001b[0m:   DEPRECATED FEATURE: flwr.client.start_client() is deprecated.\n",
      "\tInstead, use the `flower-supernode` CLI command to start a SuperNode as shown below:\n",
      "\n",
      "\t\t$ flower-supernode --insecure --superlink='<IP>:<PORT>'\n",
      "\n",
      "\tTo view all available options, run:\n",
      "\n",
      "\t\t$ flower-supernode --help\n",
      "\n",
      "\tUsing `start_client()` is deprecated.\n",
      "\n",
      "            This is a deprecated feature. It will be removed\n",
      "            entirely in future versions of Flower.\n",
      "        \n"
     ]
    },
    {
     "ename": "_MultiThreadedRendezvous",
     "evalue": "<_MultiThreadedRendezvous of RPC that terminated with:\n\tstatus = StatusCode.UNAVAILABLE\n\tdetails = \"failed to connect to all addresses; last error: UNKNOWN: ipv4:127.0.0.1:8080: Failed to connect to remote host: connect: Connection refused (111)\"\n\tdebug_error_string = \"UNKNOWN:Error received from peer  {grpc_message:\"failed to connect to all addresses; last error: UNKNOWN: ipv4:127.0.0.1:8080: Failed to connect to remote host: connect: Connection refused (111)\", grpc_status:14}\"\n>",
     "output_type": "error",
     "traceback": [
      "\u001b[31m---------------------------------------------------------------------------\u001b[39m",
      "\u001b[31m_MultiThreadedRendezvous\u001b[39m                  Traceback (most recent call last)",
      "\u001b[36mCell\u001b[39m\u001b[36m \u001b[39m\u001b[32mIn[7]\u001b[39m\u001b[32m, line 1\u001b[39m\n\u001b[32m----> \u001b[39m\u001b[32m1\u001b[39m \u001b[43mfl\u001b[49m\u001b[43m.\u001b[49m\u001b[43mclient\u001b[49m\u001b[43m.\u001b[49m\u001b[43mstart_numpy_client\u001b[49m\u001b[43m(\u001b[49m\u001b[43mserver_address\u001b[49m\u001b[43m=\u001b[49m\u001b[33;43m\"\u001b[39;49m\u001b[33;43mlocalhost:8080\u001b[39;49m\u001b[33;43m\"\u001b[39;49m\u001b[43m,\u001b[49m\u001b[43m \u001b[49m\u001b[43mclient\u001b[49m\u001b[43m=\u001b[49m\u001b[43mDroneClient\u001b[49m\u001b[43m(\u001b[49m\u001b[43m)\u001b[49m\u001b[43m)\u001b[49m\n",
      "\u001b[36mFile \u001b[39m\u001b[32m~/dev/uavFL/MC855/.venv/lib/python3.12/site-packages/flwr/compat/client/app.py:627\u001b[39m, in \u001b[36mstart_numpy_client\u001b[39m\u001b[34m(server_address, client, grpc_max_message_length, root_certificates, insecure, transport)\u001b[39m\n\u001b[32m    622\u001b[39m \u001b[38;5;66;03m# Calling this function is deprecated. A warning is thrown.\u001b[39;00m\n\u001b[32m    623\u001b[39m \u001b[38;5;66;03m# We first need to convert the supplied client to `Client.`\u001b[39;00m\n\u001b[32m    625\u001b[39m wrp_client = client.to_client()\n\u001b[32m--> \u001b[39m\u001b[32m627\u001b[39m \u001b[43mstart_client\u001b[49m\u001b[43m(\u001b[49m\n\u001b[32m    628\u001b[39m \u001b[43m    \u001b[49m\u001b[43mserver_address\u001b[49m\u001b[43m=\u001b[49m\u001b[43mserver_address\u001b[49m\u001b[43m,\u001b[49m\n\u001b[32m    629\u001b[39m \u001b[43m    \u001b[49m\u001b[43mclient\u001b[49m\u001b[43m=\u001b[49m\u001b[43mwrp_client\u001b[49m\u001b[43m,\u001b[49m\n\u001b[32m    630\u001b[39m \u001b[43m    \u001b[49m\u001b[43mgrpc_max_message_length\u001b[49m\u001b[43m=\u001b[49m\u001b[43mgrpc_max_message_length\u001b[49m\u001b[43m,\u001b[49m\n\u001b[32m    631\u001b[39m \u001b[43m    \u001b[49m\u001b[43mroot_certificates\u001b[49m\u001b[43m=\u001b[49m\u001b[43mroot_certificates\u001b[49m\u001b[43m,\u001b[49m\n\u001b[32m    632\u001b[39m \u001b[43m    \u001b[49m\u001b[43minsecure\u001b[49m\u001b[43m=\u001b[49m\u001b[43minsecure\u001b[49m\u001b[43m,\u001b[49m\n\u001b[32m    633\u001b[39m \u001b[43m    \u001b[49m\u001b[43mtransport\u001b[49m\u001b[43m=\u001b[49m\u001b[43mtransport\u001b[49m\u001b[43m,\u001b[49m\n\u001b[32m    634\u001b[39m \u001b[43m\u001b[49m\u001b[43m)\u001b[49m\n",
      "\u001b[36mFile \u001b[39m\u001b[32m~/dev/uavFL/MC855/.venv/lib/python3.12/site-packages/flwr/compat/client/app.py:184\u001b[39m, in \u001b[36mstart_client\u001b[39m\u001b[34m(server_address, client_fn, client, grpc_max_message_length, root_certificates, insecure, transport, authentication_keys, max_retries, max_wait_time)\u001b[39m\n\u001b[32m    181\u001b[39m warn_deprecated_feature(name=msg)\n\u001b[32m    183\u001b[39m event(EventType.START_CLIENT_ENTER)\n\u001b[32m--> \u001b[39m\u001b[32m184\u001b[39m \u001b[43mstart_client_internal\u001b[49m\u001b[43m(\u001b[49m\n\u001b[32m    185\u001b[39m \u001b[43m    \u001b[49m\u001b[43mserver_address\u001b[49m\u001b[43m=\u001b[49m\u001b[43mserver_address\u001b[49m\u001b[43m,\u001b[49m\n\u001b[32m    186\u001b[39m \u001b[43m    \u001b[49m\u001b[43mnode_config\u001b[49m\u001b[43m=\u001b[49m\u001b[43m{\u001b[49m\u001b[43m}\u001b[49m\u001b[43m,\u001b[49m\n\u001b[32m    187\u001b[39m \u001b[43m    \u001b[49m\u001b[43mload_client_app_fn\u001b[49m\u001b[43m=\u001b[49m\u001b[38;5;28;43;01mNone\u001b[39;49;00m\u001b[43m,\u001b[49m\n\u001b[32m    188\u001b[39m \u001b[43m    \u001b[49m\u001b[43mclient_fn\u001b[49m\u001b[43m=\u001b[49m\u001b[43mclient_fn\u001b[49m\u001b[43m,\u001b[49m\n\u001b[32m    189\u001b[39m \u001b[43m    \u001b[49m\u001b[43mclient\u001b[49m\u001b[43m=\u001b[49m\u001b[43mclient\u001b[49m\u001b[43m,\u001b[49m\n\u001b[32m    190\u001b[39m \u001b[43m    \u001b[49m\u001b[43mgrpc_max_message_length\u001b[49m\u001b[43m=\u001b[49m\u001b[43mgrpc_max_message_length\u001b[49m\u001b[43m,\u001b[49m\n\u001b[32m    191\u001b[39m \u001b[43m    \u001b[49m\u001b[43mroot_certificates\u001b[49m\u001b[43m=\u001b[49m\u001b[43mroot_certificates\u001b[49m\u001b[43m,\u001b[49m\n\u001b[32m    192\u001b[39m \u001b[43m    \u001b[49m\u001b[43minsecure\u001b[49m\u001b[43m=\u001b[49m\u001b[43minsecure\u001b[49m\u001b[43m,\u001b[49m\n\u001b[32m    193\u001b[39m \u001b[43m    \u001b[49m\u001b[43mtransport\u001b[49m\u001b[43m=\u001b[49m\u001b[43mtransport\u001b[49m\u001b[43m,\u001b[49m\n\u001b[32m    194\u001b[39m \u001b[43m    \u001b[49m\u001b[43mauthentication_keys\u001b[49m\u001b[43m=\u001b[49m\u001b[43mauthentication_keys\u001b[49m\u001b[43m,\u001b[49m\n\u001b[32m    195\u001b[39m \u001b[43m    \u001b[49m\u001b[43mmax_retries\u001b[49m\u001b[43m=\u001b[49m\u001b[43mmax_retries\u001b[49m\u001b[43m,\u001b[49m\n\u001b[32m    196\u001b[39m \u001b[43m    \u001b[49m\u001b[43mmax_wait_time\u001b[49m\u001b[43m=\u001b[49m\u001b[43mmax_wait_time\u001b[49m\u001b[43m,\u001b[49m\n\u001b[32m    197\u001b[39m \u001b[43m\u001b[49m\u001b[43m)\u001b[49m\n\u001b[32m    198\u001b[39m event(EventType.START_CLIENT_LEAVE)\n",
      "\u001b[36mFile \u001b[39m\u001b[32m~/dev/uavFL/MC855/.venv/lib/python3.12/site-packages/flwr/compat/client/app.py:395\u001b[39m, in \u001b[36mstart_client_internal\u001b[39m\u001b[34m(server_address, node_config, load_client_app_fn, client_fn, client, grpc_max_message_length, root_certificates, insecure, transport, authentication_keys, max_retries, max_wait_time, flwr_path)\u001b[39m\n\u001b[32m    392\u001b[39m \u001b[38;5;28;01mwhile\u001b[39;00m \u001b[38;5;28;01mTrue\u001b[39;00m:\n\u001b[32m    393\u001b[39m     \u001b[38;5;28;01mtry\u001b[39;00m:\n\u001b[32m    394\u001b[39m         \u001b[38;5;66;03m# Receive\u001b[39;00m\n\u001b[32m--> \u001b[39m\u001b[32m395\u001b[39m         message = \u001b[43mreceive\u001b[49m\u001b[43m(\u001b[49m\u001b[43m)\u001b[49m\n\u001b[32m    396\u001b[39m         \u001b[38;5;28;01mif\u001b[39;00m message \u001b[38;5;129;01mis\u001b[39;00m \u001b[38;5;28;01mNone\u001b[39;00m:\n\u001b[32m    397\u001b[39m             time.sleep(\u001b[32m3\u001b[39m)  \u001b[38;5;66;03m# Wait for 3s before asking again\u001b[39;00m\n",
      "\u001b[36mFile \u001b[39m\u001b[32m~/dev/uavFL/MC855/.venv/lib/python3.12/site-packages/flwr/compat/client/grpc_client/connection.py:142\u001b[39m, in \u001b[36mgrpc_connection.<locals>.receive\u001b[39m\u001b[34m()\u001b[39m\n\u001b[32m    140\u001b[39m \u001b[38;5;28;01mdef\u001b[39;00m\u001b[38;5;250m \u001b[39m\u001b[34mreceive\u001b[39m() -> Message:\n\u001b[32m    141\u001b[39m     \u001b[38;5;66;03m# Receive ServerMessage proto\u001b[39;00m\n\u001b[32m--> \u001b[39m\u001b[32m142\u001b[39m     proto = \u001b[38;5;28;43mnext\u001b[39;49m\u001b[43m(\u001b[49m\u001b[43mserver_message_iterator\u001b[49m\u001b[43m)\u001b[49m\n\u001b[32m    144\u001b[39m     \u001b[38;5;66;03m# ServerMessage proto --> *Ins --> RecordDict\u001b[39;00m\n\u001b[32m    145\u001b[39m     field = proto.WhichOneof(\u001b[33m\"\u001b[39m\u001b[33mmsg\u001b[39m\u001b[33m\"\u001b[39m)\n",
      "\u001b[36mFile \u001b[39m\u001b[32m~/dev/uavFL/MC855/.venv/lib/python3.12/site-packages/grpc/_channel.py:543\u001b[39m, in \u001b[36m_Rendezvous.__next__\u001b[39m\u001b[34m(self)\u001b[39m\n\u001b[32m    542\u001b[39m \u001b[38;5;28;01mdef\u001b[39;00m\u001b[38;5;250m \u001b[39m\u001b[34m__next__\u001b[39m(\u001b[38;5;28mself\u001b[39m):\n\u001b[32m--> \u001b[39m\u001b[32m543\u001b[39m     \u001b[38;5;28;01mreturn\u001b[39;00m \u001b[38;5;28;43mself\u001b[39;49m\u001b[43m.\u001b[49m\u001b[43m_next\u001b[49m\u001b[43m(\u001b[49m\u001b[43m)\u001b[49m\n",
      "\u001b[36mFile \u001b[39m\u001b[32m~/dev/uavFL/MC855/.venv/lib/python3.12/site-packages/grpc/_channel.py:952\u001b[39m, in \u001b[36m_MultiThreadedRendezvous._next\u001b[39m\u001b[34m(self)\u001b[39m\n\u001b[32m    950\u001b[39m     \u001b[38;5;28;01mraise\u001b[39;00m \u001b[38;5;167;01mStopIteration\u001b[39;00m()\n\u001b[32m    951\u001b[39m \u001b[38;5;28;01melse\u001b[39;00m:\n\u001b[32m--> \u001b[39m\u001b[32m952\u001b[39m     \u001b[38;5;28;01mraise\u001b[39;00m \u001b[38;5;28mself\u001b[39m\n\u001b[32m    954\u001b[39m \u001b[38;5;28;01mdef\u001b[39;00m\u001b[38;5;250m \u001b[39m\u001b[34m_response_ready\u001b[39m():\n\u001b[32m    955\u001b[39m     \u001b[38;5;28;01mreturn\u001b[39;00m \u001b[38;5;28mself\u001b[39m._state.response \u001b[38;5;129;01mis\u001b[39;00m \u001b[38;5;129;01mnot\u001b[39;00m \u001b[38;5;28;01mNone\u001b[39;00m \u001b[38;5;129;01mor\u001b[39;00m (\n\u001b[32m    956\u001b[39m         cygrpc.OperationType.receive_message \u001b[38;5;129;01mnot\u001b[39;00m \u001b[38;5;129;01min\u001b[39;00m \u001b[38;5;28mself\u001b[39m._state.due\n\u001b[32m    957\u001b[39m         \u001b[38;5;129;01mand\u001b[39;00m \u001b[38;5;28mself\u001b[39m._state.code \u001b[38;5;129;01mis\u001b[39;00m \u001b[38;5;129;01mnot\u001b[39;00m \u001b[38;5;28;01mNone\u001b[39;00m\n\u001b[32m    958\u001b[39m     )\n",
      "\u001b[31m_MultiThreadedRendezvous\u001b[39m: <_MultiThreadedRendezvous of RPC that terminated with:\n\tstatus = StatusCode.UNAVAILABLE\n\tdetails = \"failed to connect to all addresses; last error: UNKNOWN: ipv4:127.0.0.1:8080: Failed to connect to remote host: connect: Connection refused (111)\"\n\tdebug_error_string = \"UNKNOWN:Error received from peer  {grpc_message:\"failed to connect to all addresses; last error: UNKNOWN: ipv4:127.0.0.1:8080: Failed to connect to remote host: connect: Connection refused (111)\", grpc_status:14}\"\n>"
     ]
    }
   ],
   "source": [
    "fl.client.start_numpy_client(server_address=\"localhost:8080\", client=DroneClient())\n"
   ]
  }
 ],
 "metadata": {
  "kernelspec": {
   "display_name": ".venv",
   "language": "python",
   "name": "python3"
  },
  "language_info": {
   "codemirror_mode": {
    "name": "ipython",
    "version": 3
   },
   "file_extension": ".py",
   "mimetype": "text/x-python",
   "name": "python",
   "nbconvert_exporter": "python",
   "pygments_lexer": "ipython3",
   "version": "3.12.7"
  }
 },
 "nbformat": 4,
 "nbformat_minor": 5
}
